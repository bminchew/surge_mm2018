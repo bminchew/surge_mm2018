{
 "cells": [
  {
   "cell_type": "markdown",
   "metadata": {},
   "source": [
    "**_A rate-and-state model for incipient surge motion in glaciers with till-covered beds_** \n",
    "-----\n",
    "\n",
    "#### Brent M. Minchew and Colin R. Meyer\n"
   ]
  },
  {
   "cell_type": "markdown",
   "metadata": {},
   "source": [
    "### General Model\n",
    "Basal slip acceleration is give as\n",
    "\\begin{equation}\n",
    "\\dot{u}_b  =  nu_b \\left[ \\frac{ \\displaystyle \\dot{\\alpha}-\\mu\\frac{p_w}{p_i}\\left(\\frac{\\dot{h}}{h} -\n",
    "\t\t\t\\frac{\\dot{p}_w}{p_w}\\right)- b\\frac{\\dot{\\theta}}{\\theta} \\left(1-\\frac{p_w}{p_i}\\right)\n",
    "\t\t\t}{\\displaystyle \\alpha + \\big(an -\\mu\\big)\\left(1-\\frac{p_w}{p_i}\\right) } \\right] \\label{e:ubdot_m}\n",
    "\\end{equation}\n",
    "where $u_b$ is the instantaneous basal slip rate, $n$ is the exponent in the constitutive relation (Glen's Law), $\\alpha$ is the local ice surface slope, $h$ is the local ice thickness, $p_w$ is the pore water pressure in the till, $p_i = \\rho_i g h$ is the overburden pressure, $\\rho_i$ is the mass density of ice, and $g$ is gravitational acceleration. The system of equations is populated by the following:\n",
    "\n",
    "\\begin{equation}\n",
    "\\mu = \\mu_n + a\\ln\\left(\\frac{u_b}{u_{bc}}\\right) + b\\ln\\left(\\frac{\\theta u_{bc}}{d_c}\\right)\n",
    "\\end{equation}\n",
    "is the rate-and-state coefficient of friction, $\\theta$ is the state, $a$ and $b$ are material properties of the till, $d_c$ is a characteristic slip distance, $u_{bc}$ is a characteristic slip rate, $\\mu_n$ is the nominal friction coefficient.\n",
    "\n",
    "\\begin{equation}\n",
    "\\dot{\\theta} = -\\frac{u_b\\theta}{d_c}\\ln\\left(\\frac{u_b\\theta}{d_c}\\right)\n",
    "\\end{equation}\n",
    "is the slip law of rate-and-state friction.\n",
    "\n",
    "\\begin{equation}\n",
    "\\dot{p}_w = c_h\\left(p_{w_\\infty} + p_{w_r} - 2p_w\\right) + \\frac{\\dot{\\theta}N}{\\theta\\Lambda}\n",
    "\\end{equation}\n",
    "where $c_h$ is the characteristic diffusivity of a till layer of thickness $h_s$, $p_{w_\\infty}$ is the (constant) pore water pressure of the underlying, stationary till half-space, $p_{w_r}$ is the water pressure in the subglacial hydrological system,\n",
    "\\begin{equation}\n",
    "N = p_i - p_w\n",
    "\\end{equation}\n",
    "is the effective pressure, \n",
    "\\begin{equation}\n",
    "\\Lambda = \\frac{\\epsilon_e}{\\epsilon_p}\\left(1 - \\phi\\right)^2\n",
    "\\end{equation}\n",
    "is a poroelastic parameter, $\\phi$ is the porosity of the till, and $\\epsilon_e$ and $\\epsilon_p$ are the elastic and plastic till compressibility coefficients, respectively.\n",
    "\n",
    "### Instantaneous acceleration\n",
    "The instantaneous acceleration in response to a perturbation from steady state (indicated by hats on variables) is give as\n",
    "\\begin{equation}\n",
    "\t\\label{e:ubdot_instant}\n",
    "\t\\frac{\\dot{u}'_{b}}{\\left[\\dot{u}_b\\right]} = \\left(1 - \\frac{\\mu'}{b\\Lambda }\\right)\n",
    "\t\t\t\\left[ \\frac{ \\displaystyle \n",
    "\t\t\t\\ln\\left(\\frac{u_b}{\\hat{u}_b}\\right)\\left(\\frac{u_b}{\\hat{u}_b}\\right)^2 \\left(1-\\frac{p_w}{p_i}\\right)\n",
    "\t\t\t}{\\displaystyle 1 + \\bigg(\\frac{an -\\mu'}{\\alpha} \\bigg) \\left(1-\\frac{p_w}{p_i}\\right) } \\right]\n",
    "\t\\end{equation}\n",
    "where primes indicate instantaneous values. Note that $\\mu' = \\mu_n + a\\log{(u_b/\\hat{u}_b)}$ contains only the direct effect because state is still at steady-state ($\\theta = \\hat{\\theta} = d_c/\\hat{u}_b$). "
   ]
  },
  {
   "cell_type": "code",
   "execution_count": 2,
   "metadata": {},
   "outputs": [],
   "source": [
    "%matplotlib inline\n",
    "from importlib import reload\n",
    "from ipywidgets import interactive, fixed"
   ]
  },
  {
   "cell_type": "code",
   "execution_count": 5,
   "metadata": {},
   "outputs": [],
   "source": [
    "import surge\n",
    "surge = reload(surge)"
   ]
  }
 ],
 "metadata": {
  "kernelspec": {
   "display_name": "Python 3",
   "language": "python",
   "name": "python3"
  },
  "language_info": {
   "codemirror_mode": {
    "name": "ipython",
    "version": 3
   },
   "file_extension": ".py",
   "mimetype": "text/x-python",
   "name": "python",
   "nbconvert_exporter": "python",
   "pygments_lexer": "ipython3",
   "version": "3.6.5"
  }
 },
 "nbformat": 4,
 "nbformat_minor": 2
}
